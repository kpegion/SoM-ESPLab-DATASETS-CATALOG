{
 "cells": [
  {
   "cell_type": "markdown",
   "metadata": {},
   "source": [
    "# Goal\n",
    "Test the creation of a catolog for a single dataset on the COLA Servers\n",
    "\n",
    "### Following This Example:\n",
    "https://github.com/intake/intake-examples/blob/master/tutorial/data_engineer.ipynb"
   ]
  },
  {
   "cell_type": "code",
   "execution_count": 1,
   "metadata": {},
   "outputs": [],
   "source": [
    "import intake"
   ]
  },
  {
   "cell_type": "code",
   "execution_count": 2,
   "metadata": {},
   "outputs": [
    {
     "ename": "NameError",
     "evalue": "name 'xarray' is not defined",
     "output_type": "error",
     "traceback": [
      "\u001b[0;31m---------------------------------------------------------------------------\u001b[0m",
      "\u001b[0;31mNameError\u001b[0m                                 Traceback (most recent call last)",
      "\u001b[0;32m<ipython-input-2-db61aec156a8>\u001b[0m in \u001b[0;36m<module>\u001b[0;34m\u001b[0m\n\u001b[0;32m----> 1\u001b[0;31m \u001b[0mprint\u001b[0m\u001b[0;34m(\u001b[0m\u001b[0mintake\u001b[0m\u001b[0;34m-\u001b[0m\u001b[0mxarray\u001b[0m\u001b[0;34m.\u001b[0m\u001b[0m__version__\u001b[0m\u001b[0;34m)\u001b[0m\u001b[0;34m\u001b[0m\u001b[0;34m\u001b[0m\u001b[0m\n\u001b[0m",
      "\u001b[0;31mNameError\u001b[0m: name 'xarray' is not defined"
     ]
    }
   ],
   "source": [
    "print(intake-xarray.__version__)"
   ]
  },
  {
   "cell_type": "code",
   "execution_count": 2,
   "metadata": {},
   "outputs": [
    {
     "data": {
      "text/plain": [
       "['netcdf',\n",
       " 'opendap',\n",
       " 'rasterio',\n",
       " 'remote-xarray',\n",
       " 'xarray_image',\n",
       " 'zarr',\n",
       " 'alias',\n",
       " 'catalog',\n",
       " 'csv',\n",
       " 'intake_remote',\n",
       " 'json',\n",
       " 'jsonl',\n",
       " 'ndzarr',\n",
       " 'numpy',\n",
       " 'textfiles',\n",
       " 'tiled',\n",
       " 'tiled_cat',\n",
       " 'yaml_file_cat',\n",
       " 'yaml_files_cat',\n",
       " 'zarr_cat']"
      ]
     },
     "execution_count": 2,
     "metadata": {},
     "output_type": "execute_result"
    }
   ],
   "source": [
    "list(intake.registry)"
   ]
  },
  {
   "cell_type": "code",
   "execution_count": 3,
   "metadata": {},
   "outputs": [
    {
     "ename": "AttributeError",
     "evalue": "module 'intake' has no attribute 'open_netcdf'",
     "output_type": "error",
     "traceback": [
      "\u001b[0;31m---------------------------------------------------------------------------\u001b[0m",
      "\u001b[0;31mAttributeError\u001b[0m                            Traceback (most recent call last)",
      "\u001b[0;32m<ipython-input-3-1427548cfa68>\u001b[0m in \u001b[0;36m<module>\u001b[0;34m\u001b[0m\n\u001b[1;32m      4\u001b[0m \u001b[0mpath\u001b[0m\u001b[0;34m=\u001b[0m\u001b[0;34m'/home/kpegion/data/shared/rean/ERA5/monthly/'\u001b[0m\u001b[0;34m\u001b[0m\u001b[0;34m\u001b[0m\u001b[0m\n\u001b[1;32m      5\u001b[0m \u001b[0mfname\u001b[0m\u001b[0;34m=\u001b[0m\u001b[0;34m'ERA5_U200_1979-2022.nc'\u001b[0m\u001b[0;34m\u001b[0m\u001b[0;34m\u001b[0m\u001b[0m\n\u001b[0;32m----> 6\u001b[0;31m \u001b[0msource\u001b[0m\u001b[0;34m=\u001b[0m\u001b[0mintake\u001b[0m\u001b[0;34m.\u001b[0m\u001b[0mopen_netcdf\u001b[0m\u001b[0;34m(\u001b[0m\u001b[0mpath\u001b[0m\u001b[0;34m+\u001b[0m\u001b[0mfname\u001b[0m\u001b[0;34m)\u001b[0m\u001b[0;34m\u001b[0m\u001b[0;34m\u001b[0m\u001b[0m\n\u001b[0m",
      "\u001b[0;31mAttributeError\u001b[0m: module 'intake' has no attribute 'open_netcdf'"
     ]
    }
   ],
   "source": [
    "#path='/shared/cmip5/data/rcp45/atmos/mon/Amon/tas/NCAR.CCSM4/r1i1p1/'\n",
    "#fname='tas_Amon_CCSM4_rcp45_r1i1p1_200601-210012.nc'\n",
    "\n",
    "path='/home/kpegion/data/shared/rean/ERA5/monthly/'\n",
    "fname='ERA5_U200_1979-2022.nc'\n",
    "source=intake.open_netcdf(path+fname)"
   ]
  },
  {
   "cell_type": "code",
   "execution_count": null,
   "metadata": {},
   "outputs": [],
   "source": [
    "source"
   ]
  },
  {
   "cell_type": "code",
   "execution_count": null,
   "metadata": {},
   "outputs": [],
   "source": [
    "source.discover()"
   ]
  },
  {
   "cell_type": "code",
   "execution_count": null,
   "metadata": {},
   "outputs": [],
   "source": [
    "ds=source.read()"
   ]
  },
  {
   "cell_type": "code",
   "execution_count": null,
   "metadata": {},
   "outputs": [],
   "source": [
    "ds"
   ]
  },
  {
   "cell_type": "code",
   "execution_count": null,
   "metadata": {},
   "outputs": [],
   "source": [
    "print(source.yaml())"
   ]
  },
  {
   "cell_type": "code",
   "execution_count": null,
   "metadata": {},
   "outputs": [],
   "source": [
    "%%writefile cmip5.yaml\n",
    "sources:\n",
    "  netcdf:\n",
    "    args:\n",
    "      urlpath: /shared/cmip5/data/rcp45/atmos/mon/Amon/tas/NCAR.CCSM4/r1i1p1/tas_Amon_CCSM4_rcp45_r1i1p1_200601-210012.nc\n",
    "    description: ''\n",
    "    driver: intake_xarray.netcdf.NetCDFSource\n",
    "    metadata:\n",
    "      Conventions: CF-1.4\n",
    "      acknowledgements: The CESM project is supported by the National Science Foundation\n",
    "        and the Office of Science (BER) of the U.S. Department of Energy. NCAR is\n",
    "        sponsored by the National Science Foundation. Computing resources were provided\n",
    "        by the Climate Simulation Laboratory at the NCAR Computational and Information\n",
    "        Systems Laboratory (CISL), sponsored by the National Science Foundation and\n",
    "        other agencies.\n",
    "      cesm_casename: b40.rcp4_5.1deg.001\n",
    "      cesm_compset: BRCP45CN\n",
    "      cesm_repotag: ccsm4_0_beta49\n",
    "      cmor_version: 2.7.1\n",
    "      contact: cesm_data@ucar.edu\n",
    "      coords: !!python/tuple\n",
    "      - time\n",
    "      - lat\n",
    "      - lon\n",
    "      - height\n",
    "      creation_date: '2011-10-21T21:56:22Z'\n",
    "      data_vars:\n",
    "        lat_bnds:\n",
    "        - lat\n",
    "        - height\n",
    "        lon_bnds:\n",
    "        - lon\n",
    "        - height\n",
    "        tas:\n",
    "        - time\n",
    "        - lat\n",
    "        - lon\n",
    "        - height\n",
    "        time_bnds:\n",
    "        - time\n",
    "        - height\n",
    "      dims:\n",
    "        bnds: 2\n",
    "        lat: 192\n",
    "        lon: 288\n",
    "        time: 1140\n",
    "      experiment: RCP4.5\n",
    "      experiment_id: rcp45\n",
    "      forcing: Sl GHG Vl SS Ds SA BC MD OC Oz AA\n",
    "      forcing_note: Additional information on the external forcings used in this experiment\n",
    "        can be found at http://www.cesm.ucar.edu/CMIP5/forcing_information\n",
    "      frequency: mon\n",
    "      history: 2011-10-21T21:56:22Z CMOR rewrote data to comply with CF standards\n",
    "        and CMIP5 requirements.\n",
    "      institute_id: NCAR\n",
    "      institution: NCAR (National Center for Atmospheric Research) Boulder, CO, USA\n",
    "      model_id: CCSM4\n",
    "      modeling_realm: atmos\n",
    "      parent_experiment: historical\n",
    "      parent_experiment_id: historical\n",
    "      parent_experiment_rip: r1i1p1\n",
    "      processed_by: strandwg on mirage0 at 20111021\n",
    "      processing_code_information: 'Last Changed Rev: 428 Last Changed Date: 2011-10-21\n",
    "        10:32:02 -0600 (Fri, 21 Oct 2011) Repository UUID: d2181dbe-5796-6825-dc7f-cbd98591f93d'\n",
    "      product: output\n",
    "      project_id: CMIP5\n",
    "      references: 'Gent P. R., et.al. 2011: The Community Climate System Model version\n",
    "        4. J. Climate, doi: 10.1175/2011JCLI4083.1'\n",
    "      resolution: f09_g16 (0.9x1.25_gx1v6)\n",
    "      source: CCSM4\n",
    "      table_id: Table Amon (26 July 2011) 976b7fd1d9e1be31dddd28f5dc79b7a1\n",
    "      title: CCSM4 model output prepared for CMIP5 RCP4.5\n",
    "      tracking_id: 0bf35136-b266-44d2-9078-f3081b83b6ad"
   ]
  },
  {
   "cell_type": "code",
   "execution_count": null,
   "metadata": {},
   "outputs": [],
   "source": [
    "cat = intake.open_catalog('cmip5.yaml')"
   ]
  }
 ],
 "metadata": {
  "kernelspec": {
   "display_name": "Python (catalog-ing)",
   "language": "python",
   "name": "catalog-ing"
  },
  "language_info": {
   "codemirror_mode": {
    "name": "ipython",
    "version": 3
   },
   "file_extension": ".py",
   "mimetype": "text/x-python",
   "name": "python",
   "nbconvert_exporter": "python",
   "pygments_lexer": "ipython3",
   "version": "3.6.15"
  }
 },
 "nbformat": 4,
 "nbformat_minor": 4
}
